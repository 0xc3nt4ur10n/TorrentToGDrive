{
  "nbformat": 4,
  "nbformat_minor": 0,
  "metadata": {
    "colab": {
      "provenance": [],
      "toc_visible": true,
      "authorship_tag": "ABX9TyN1x4OBJWoWvQhpEheq+kLd",
      "include_colab_link": true
    },
    "kernelspec": {
      "name": "python3",
      "display_name": "Python 3"
    },
    "language_info": {
      "name": "python"
    }
  },
  "cells": [
    {
      "cell_type": "markdown",
      "metadata": {
        "id": "view-in-github",
        "colab_type": "text"
      },
      "source": [
        "<a href=\"https://colab.research.google.com/github/0xc3nt4ur10n/TorrentToGDrive/blob/main/TorrentToGDrive.ipynb\" target=\"_parent\"><img src=\"https://colab.research.google.com/assets/colab-badge.svg\" alt=\"Open In Colab\"/></a>"
      ]
    },
    {
      "cell_type": "markdown",
      "source": [
        "# <font color='0f81c2'>__Torrent to Google Drive Downloader__"
      ],
      "metadata": {
        "id": "2dFRFNLbtbb2"
      }
    },
    {
      "cell_type": "markdown",
      "source": [
        "### <font color='0f81c1'>Install Dependency"
      ],
      "metadata": {
        "id": "cdfM7RHKtgzV"
      }
    },
    {
      "cell_type": "code",
      "source": [
        "#@markdown <h3>Step #1. Install libtorrent and Initialize Session\n",
        "\n",
        "# 🛠️ Install packages\n",
        "!python -m pip install --upgrade pip setuptools wheel\n",
        "!python -m pip install lbry-libtorrent\n",
        "!apt install python3-libtorrent -y\n",
        "\n",
        "import libtorrent as lt\n",
        "\n",
        "# Start libtorrent session\n",
        "ses = lt.session()\n",
        "ses.listen_on(6881, 6891)\n",
        "\n",
        "print(\"\\n🚀 Libtorrent session started!\")"
      ],
      "metadata": {
        "cellView": "form",
        "id": "rJ5ip8C3tjmV"
      },
      "execution_count": null,
      "outputs": []
    },
    {
      "cell_type": "markdown",
      "source": [
        "### <font color='0f81c1'>Mount Google Drive"
      ],
      "metadata": {
        "id": "V_bjP9Lctlne"
      }
    },
    {
      "cell_type": "code",
      "source": [
        "#@markdown <h3>Step #2. Mount Google Drive\n",
        "\n",
        "from google.colab import drive, files\n",
        "\n",
        "# Mount Google Drive to save torrents\n",
        "drive.mount(\"/content/drive\")"
      ],
      "metadata": {
        "cellView": "form",
        "id": "0FjmOE2stpKd"
      },
      "execution_count": null,
      "outputs": []
    },
    {
      "cell_type": "markdown",
      "source": [
        "## <font color='0f81c1'>Add Torrent Source\n",
        "\n"
      ],
      "metadata": {
        "id": "EzyY7JyqttZ9"
      }
    },
    {
      "cell_type": "code",
      "source": [
        "#@markdown <h3>Step #3. Add From Magnet Link or Torrent File\n",
        "\n",
        "import os\n",
        "\n",
        "# Create save path\n",
        "save_path = '/content/drive/MyDrive/Torrents/Movies'\n",
        "os.makedirs(save_path, exist_ok=True)\n",
        "\n",
        "# Initialize list of downloads\n",
        "downloads = []\n",
        "\n",
        "# Add torrents from multiple magnet links or .torrent files\n",
        "while True:\n",
        "    source = input(\"🔗 Enter a magnet link or type 'file' to upload a .torrent file or 'exit' to stop: \")\n",
        "\n",
        "    if source.lower() == 'exit':\n",
        "        print(\"\\n👋 Exiting input mode.\")\n",
        "        break\n",
        "\n",
        "    elif source.lower() == 'file':\n",
        "        print(\"📁 Uploading a .torrent file...\")\n",
        "        uploaded = files.upload()\n",
        "        if uploaded:\n",
        "            torrent_file = list(uploaded.keys())[0]\n",
        "            try:\n",
        "                info = lt.torrent_info(torrent_file)\n",
        "                h = ses.add_torrent({'ti': info, 'save_path': save_path})\n",
        "                downloads.append(h)\n",
        "                print(f\"\\n🎬 Starting: {h.status().name}\")\n",
        "            except Exception as e:\n",
        "                print(f\"⚠️ Error loading torrent: {e}\")\n",
        "        else:\n",
        "            print(\"⚠️ No file uploaded.\")\n",
        "\n",
        "    elif source.startswith(\"magnet:?xt=\"):\n",
        "        print(\"\\n🔗 Adding magnet link...\")\n",
        "        try:\n",
        "            params = lt.parse_magnet_uri(source)\n",
        "            params.save_path = save_path\n",
        "            h = ses.add_torrent(params)\n",
        "            downloads.append(h)\n",
        "            print(f\"\\n🎬 Starting: {h.status().name}\")\n",
        "        except Exception as e:\n",
        "            print(f\"⚠️ Invalid magnet link: {e}\")\n",
        "    else:\n",
        "        print(\"❌ Invalid input. Try again.\")"
      ],
      "metadata": {
        "cellView": "form",
        "id": "iVLW73BKtxO9"
      },
      "execution_count": null,
      "outputs": []
    },
    {
      "cell_type": "markdown",
      "source": [
        "## <font color='0f81c1'>Start Download"
      ],
      "metadata": {
        "id": "XnYv_0KVt0QF"
      }
    },
    {
      "cell_type": "code",
      "source": [
        "#@markdown <h3>Step #4. Start Download\n",
        "\n",
        "import time\n",
        "from IPython.display import clear_output\n",
        "\n",
        "# Lists\n",
        "ongoing_downloads = downloads\n",
        "completed_downloads = []\n",
        "\n",
        "# ⏳ Monitor downloads\n",
        "while ongoing_downloads:\n",
        "    clear_output(wait=True)\n",
        "    next_iteration_downloads = []\n",
        "    display_list = []\n",
        "\n",
        "    # Collect display strings and organize\n",
        "    for download in ongoing_downloads:\n",
        "        s = download.status()\n",
        "\n",
        "        # 🌀 State strings\n",
        "        state_str = [\n",
        "            'queued',\n",
        "            'checking',\n",
        "            'downloading metadata',\n",
        "            'downloading',\n",
        "            'finished',\n",
        "            'seeding',\n",
        "            'allocating',\n",
        "            'checking fastresume'\n",
        "        ]\n",
        "        state = state_str[s.state] if s.state < len(state_str) else \"unknown\"\n",
        "\n",
        "        # ETA calculation with hours\n",
        "        if s.download_rate > 0 and s.total_wanted > 0:\n",
        "            eta_seconds = (s.total_wanted - s.total_done) / s.download_rate\n",
        "            hours = int(eta_seconds) // 3600  # Calculate hours\n",
        "            minutes = (int(eta_seconds) % 3600) // 60  # Calculate minutes\n",
        "            seconds = int(eta_seconds) % 60  # Calculate remaining seconds\n",
        "\n",
        "            if hours > 0:\n",
        "                eta_str = f\"ETA: {hours}h {minutes}m {seconds}s\"\n",
        "            elif minutes > 0:\n",
        "                eta_str = f\"ETA: {minutes}m {seconds}s\"\n",
        "            else:\n",
        "                eta_str = f\"ETA: {seconds}s\"\n",
        "        else:\n",
        "            eta_str = \"ETA: ∞\"\n",
        "\n",
        "        if s.is_seeding:\n",
        "            display_list.insert(0, f'🎬 {s.name} ✅ {s.progress * 100:.2f}% complete! 🌀 seeding ⬇️ 0.0 kB/s ⬆️ {s.upload_rate / 1000:.1f} kB/s 👥 peers: {s.num_peers}')\n",
        "            completed_downloads.append(download)\n",
        "        else:\n",
        "            display_list.append(f'🎬 {s.name} ⬇️ {s.progress * 100:.2f}% ⏳ {eta_str} 🌀 {state} ⬇️ {s.download_rate / 1000:.1f} kB/s ⬆️ {s.upload_rate / 1000:.1f} kB/s 👥 peers: {s.num_peers}')\n",
        "            next_iteration_downloads.append(download)\n",
        "\n",
        "    # Display the download status in sorted order\n",
        "    for line in display_list:\n",
        "        print(line)\n",
        "\n",
        "    # Update ongoing downloads\n",
        "    ongoing_downloads = next_iteration_downloads\n",
        "    time.sleep(1)"
      ],
      "metadata": {
        "cellView": "form",
        "id": "V3BqjodPt3nu"
      },
      "execution_count": null,
      "outputs": []
    }
  ]
}