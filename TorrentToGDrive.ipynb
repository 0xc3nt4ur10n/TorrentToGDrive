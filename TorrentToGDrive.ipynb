{
  "nbformat": 4,
  "nbformat_minor": 0,
  "metadata": {
    "colab": {
      "provenance": [],
      "toc_visible": true,
      "include_colab_link": true
    },
    "kernelspec": {
      "name": "python3",
      "display_name": "Python 3"
    },
    "language_info": {
      "name": "python"
    }
  },
  "cells": [
    {
      "cell_type": "markdown",
      "metadata": {
        "id": "view-in-github",
        "colab_type": "text"
      },
      "source": [
        "<a href=\"https://colab.research.google.com/github/0xc3nt4ur10n/TorrentToGDrive/blob/main/TorrentToGDrive.ipynb\" target=\"_parent\"><img src=\"https://colab.research.google.com/assets/colab-badge.svg\" alt=\"Open In Colab\"/></a>"
      ]
    },
    {
      "cell_type": "markdown",
      "source": [
        "# <font color='0f81c1'>__Torrent to Google Drive Downloader__"
      ],
      "metadata": {
        "id": "2dFRFNLbtbb2"
      }
    },
    {
      "cell_type": "markdown",
      "source": [
        "### <font color='0f81c1'>Install Dependency"
      ],
      "metadata": {
        "id": "cdfM7RHKtgzV"
      }
    },
    {
      "cell_type": "code",
      "source": [
        "#@markdown <h3>Step #1. Install libtorrent and Initialize Session\n",
        "\n",
        "try:\n",
        "    print(\"🔄 Updating pip, setuptools, and wheel...\")\n",
        "    !python -m pip install --upgrade pip setuptools wheel\n",
        "except Exception as e:\n",
        "    print(f\"⚠️ Error updating pip, setuptools, or wheel: {e}\")\n",
        "\n",
        "try:\n",
        "    print(\"\\n🔄 Installing lbry-libtorrent...\")\n",
        "    !python -m pip install lbry-libtorrent\n",
        "except Exception as e:\n",
        "    print(f\"\\n⚠️ Error installing lbry-libtorrent: {e}\")\n",
        "\n",
        "try:\n",
        "    import libtorrent as lt\n",
        "    ses = lt.session()\n",
        "    ses.listen_on(6881, 6891)\n",
        "    print(\"\\n🚀 Libtorrent session started!\")\n",
        "except Exception as e:\n",
        "    print(f\"\\n⚠️ Error initializing libtorrent session: {e}\")"
      ],
      "metadata": {
        "cellView": "form",
        "id": "rJ5ip8C3tjmV"
      },
      "execution_count": null,
      "outputs": []
    },
    {
      "cell_type": "markdown",
      "source": [
        "### <font color='0f81c1'>Mount Google Drive"
      ],
      "metadata": {
        "id": "V_bjP9Lctlne"
      }
    },
    {
      "cell_type": "code",
      "source": [
        "#@markdown <h3>Step #2. Mount Google Drive\n",
        "\n",
        "from google.colab import drive\n",
        "import os\n",
        "\n",
        "# Define mount point\n",
        "mount_point = \"/content/drive\"\n",
        "\n",
        "# Mount Google Drive\n",
        "try:\n",
        "    print(\"🔄 Mounting Google Drive...\")\n",
        "    drive.mount(mount_point)\n",
        "\n",
        "    # Verify if the mount point exists\n",
        "    if os.path.ismount(mount_point):\n",
        "        print(\"\\n✅ Google Drive successfully mounted!\")\n",
        "    else:\n",
        "        raise Exception(\"\\n❌ Google Drive mount failed. The mount point does not exist.\")\n",
        "\n",
        "except Exception as e:\n",
        "    print(f\"\\n⚠️ Error mounting Google Drive: {e}\")"
      ],
      "metadata": {
        "cellView": "form",
        "id": "0FjmOE2stpKd"
      },
      "execution_count": null,
      "outputs": []
    },
    {
      "cell_type": "markdown",
      "source": [
        "## <font color='0f81c1'>Select Save Path Location"
      ],
      "metadata": {
        "id": "4s-3QdjigjEy"
      }
    },
    {
      "cell_type": "code",
      "source": [
        "#@markdown <h3>Step #3. Select Download Location\n",
        "\n",
        "import os\n",
        "\n",
        "# Step 3: Function to select the download save path\n",
        "def select_save_path():\n",
        "    print(\"\\n📂 Select a folder for saving torrents:\")\n",
        "    print(\"1. Movies\")\n",
        "    print(\"2. Music\")\n",
        "    print(\"3. Books\")\n",
        "    print(\"4. Documents\")\n",
        "    print(\"5. Adults\")\n",
        "    print(\"6. Others (custom)\")\n",
        "\n",
        "    choice = input(\"🔢 Enter the number of your choice (1-6): \")\n",
        "\n",
        "    # Map choices to save paths\n",
        "    save_paths = {\n",
        "        '1': 'Movies',\n",
        "        '2': 'Music',\n",
        "        '3': 'Books',\n",
        "        '4': 'Documents',\n",
        "        '5': 'Adults'\n",
        "    }\n",
        "\n",
        "    # If choice is 6, prompt for a custom folder name\n",
        "    if choice == '6':\n",
        "        custom_folder = input(\"📁 Enter a custom folder name: \")\n",
        "        final_save_path = f'/content/drive/MyDrive/Torrents/{custom_folder}'\n",
        "    elif choice in save_paths:\n",
        "        selected_path = save_paths[choice]\n",
        "        final_save_path = f'/content/drive/MyDrive/Torrents/{selected_path}'\n",
        "    else:\n",
        "        print(\"❌ Invalid selection. Please try again.\")\n",
        "        return select_save_path()  # Recursively prompt until valid input\n",
        "\n",
        "    # Check if the path exists; if not, create it\n",
        "    if not os.path.exists(final_save_path):\n",
        "        print(f\"❌ The folder does not exist. Creating the folder: {final_save_path}\")\n",
        "        os.makedirs(final_save_path, exist_ok=True)\n",
        "\n",
        "    print(f\"\\n✅ Save path selected: {final_save_path}\")\n",
        "    return final_save_path\n",
        "\n",
        "# In Step 3 cell, just call select_save_path() to return the save path.\n",
        "save_path = select_save_path()  # This will be passed to the next step."
      ],
      "metadata": {
        "cellView": "form",
        "id": "ZaFTkvokhCBX"
      },
      "execution_count": null,
      "outputs": []
    },
    {
      "cell_type": "markdown",
      "source": [
        "## <font color='0f81c1'>Add Torrent Source\n",
        "\n"
      ],
      "metadata": {
        "id": "EzyY7JyqttZ9"
      }
    },
    {
      "cell_type": "code",
      "source": [
        "#@markdown <h3>Step #4. Add From Magnet Link or Torrent File\n",
        "\n",
        "import libtorrent as lt\n",
        "from google.colab import files\n",
        "\n",
        "# Initialize list of downloads\n",
        "downloads = []\n",
        "\n",
        "# Function to determine the file type from the torrent\n",
        "def get_file_icon_from_torrent(download):\n",
        "    try:\n",
        "        # Wait for metadata to be downloaded\n",
        "        if not download.has_metadata():\n",
        "            return \"⏳\"  # Show a waiting icon if metadata is not yet available\n",
        "\n",
        "        # If metadata is available, proceed with extracting the file info\n",
        "        ti = download.get_torrent_info()\n",
        "\n",
        "        # Check if the torrent contains multiple files or a single file\n",
        "        if ti.num_files() > 1:\n",
        "            return \"📂\"  # Multi-file torrent (folder)\n",
        "        else:\n",
        "            filename = ti.files()[0].path.lower()\n",
        "\n",
        "            # Check the file extension and return appropriate icon\n",
        "            if filename.endswith(('.mp4', '.mkv', '.avi', '.mov')):\n",
        "                return \"🎬\"  # Movie or video file\n",
        "            elif filename.endswith(('.mp3', '.flac', '.wav')):\n",
        "                return \"🎵\"  # Music file\n",
        "            elif filename.endswith(('.pdf', '.docx', '.epub')):\n",
        "                return \"📚\"  # Book file\n",
        "            elif filename.endswith(('.txt', '.csv')):\n",
        "                return \"📄\"  # Document or text file\n",
        "            else:\n",
        "                return \"📦\"  # Generic file/package\n",
        "    except Exception as e:\n",
        "        print(f\"⚠️ Error retrieving torrent info: {e}\")\n",
        "        return \"📦\"  # Default if no info or an error occurs\n",
        "\n",
        "# Add torrents from magnet links or .torrent files\n",
        "def add_torrent_to_download(save_path):\n",
        "    while True:\n",
        "        source = input(\"🔗 Enter a magnet link or type 'file' to upload a .torrent file or 'exit' to stop: \")\n",
        "\n",
        "        if source.lower() == 'exit':\n",
        "            print(\"\\n👋 Exiting input mode.\")\n",
        "            break\n",
        "\n",
        "        elif source.lower() == 'file':\n",
        "            print(\"📁 Uploading a .torrent file...\")\n",
        "            uploaded = files.upload()\n",
        "            if uploaded:\n",
        "                torrent_file = list(uploaded.keys())[0]\n",
        "                try:\n",
        "                    info = lt.torrent_info(torrent_file)\n",
        "                    h = ses.add_torrent({'ti': info, 'save_path': save_path})\n",
        "                    downloads.append(h)\n",
        "                    icon = get_file_icon_from_torrent(h)\n",
        "                    print(f\"\\n🆕 Starting: {icon} {h.status().name}\")\n",
        "                except Exception as e:\n",
        "                    print(f\"⚠️ Error loading torrent: {e}\")\n",
        "            else:\n",
        "                print(\"⚠️ No file uploaded. Please try again.\")\n",
        "\n",
        "        elif source.startswith(\"magnet:?xt=\"):\n",
        "            print(\"\\n🔗 Adding magnet link...\")\n",
        "            try:\n",
        "                params = lt.parse_magnet_uri(source)\n",
        "                params.save_path = save_path\n",
        "                h = ses.add_torrent(params)\n",
        "                downloads.append(h)\n",
        "                icon = get_file_icon_from_torrent(h)\n",
        "                print(f\"\\n🆕 Starting: {icon} {h.status().name}\")\n",
        "            except Exception as e:\n",
        "                print(f\"⚠️ Invalid magnet link: {e}\")\n",
        "        else:\n",
        "            print(\"❌ Invalid input. Please enter a valid magnet link or type 'file' to upload a torrent file.\")\n",
        "\n",
        "add_torrent_to_download(save_path)"
      ],
      "metadata": {
        "cellView": "form",
        "id": "iVLW73BKtxO9"
      },
      "execution_count": null,
      "outputs": []
    },
    {
      "cell_type": "markdown",
      "source": [
        "## <font color='0f81c1'>Start Download"
      ],
      "metadata": {
        "id": "XnYv_0KVt0QF"
      }
    },
    {
      "cell_type": "code",
      "source": [
        "#@markdown <h3>Step #5. Start Download\n",
        "\n",
        "import time\n",
        "from IPython.display import clear_output\n",
        "\n",
        "# Lists\n",
        "ongoing_downloads = downloads\n",
        "completed_downloads = []\n",
        "\n",
        "# ⏳ Monitor downloads\n",
        "while ongoing_downloads:\n",
        "    clear_output(wait=True)\n",
        "    next_iteration_downloads = []\n",
        "    display_list = []\n",
        "\n",
        "    # Collect display strings and organize\n",
        "    for download in ongoing_downloads:\n",
        "        s = download.status()\n",
        "\n",
        "        # 🌀 State strings\n",
        "        state_str = [\n",
        "            'queued',\n",
        "            'checking',\n",
        "            'downloading metadata',\n",
        "            'downloading',\n",
        "            'finished',\n",
        "            'seeding',\n",
        "            'allocating',\n",
        "            'checking fastresume'\n",
        "        ]\n",
        "        state = state_str[s.state] if s.state < len(state_str) else \"unknown\"\n",
        "\n",
        "        icon = get_file_icon_from_torrent(download)\n",
        "\n",
        "        # ETA calculation with hours\n",
        "        if s.download_rate > 0 and s.total_wanted > 0:\n",
        "            eta_seconds = (s.total_wanted - s.total_done) / s.download_rate\n",
        "            hours = int(eta_seconds) // 3600  # Calculate hours\n",
        "            minutes = (int(eta_seconds) % 3600) // 60  # Calculate minutes\n",
        "            seconds = int(eta_seconds) % 60  # Calculate remaining seconds\n",
        "\n",
        "            if hours > 0:\n",
        "                eta_str = f\"ETA: {hours}h {minutes}m {seconds}s\"\n",
        "            elif minutes > 0:\n",
        "                eta_str = f\"ETA: {minutes}m {seconds}s\"\n",
        "            else:\n",
        "                eta_str = f\"ETA: {seconds}s\"\n",
        "        else:\n",
        "            eta_str = \"ETA: ∞\"\n",
        "\n",
        "        if s.is_seeding:\n",
        "            display_list.insert(0, f'{icon} {s.name} ✅ {s.progress * 100:.2f}% complete! 🌀 seeding ⬇️ 0.0 kB/s ⬆️ {s.upload_rate / 1000:.1f} kB/s 👥 peers: {s.num_peers}')\n",
        "            completed_downloads.append(download)\n",
        "        else:\n",
        "            display_list.append(f'{icon} {s.name} ⬇️ {s.progress * 100:.2f}% 🌀 {state} ⏳ {eta_str} ⬇️ {s.download_rate / 1000:.1f} kB/s ⬆️ {s.upload_rate / 1000:.1f} kB/s 👥 peers: {s.num_peers}')\n",
        "            next_iteration_downloads.append(download)\n",
        "\n",
        "    # Display the download status in sorted order\n",
        "    for line in display_list:\n",
        "        print(line)\n",
        "\n",
        "    # Update ongoing downloads\n",
        "    ongoing_downloads = next_iteration_downloads\n",
        "    time.sleep(1)"
      ],
      "metadata": {
        "cellView": "form",
        "id": "V3BqjodPt3nu"
      },
      "execution_count": null,
      "outputs": []
    }
  ]
}